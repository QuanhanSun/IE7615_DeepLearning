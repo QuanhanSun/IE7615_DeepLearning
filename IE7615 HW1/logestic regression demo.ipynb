{
 "cells": [
  {
   "cell_type": "markdown",
   "metadata": {},
   "source": [
    "#### Load the package we need"
   ]
  },
  {
   "cell_type": "code",
   "execution_count": 1,
   "metadata": {},
   "outputs": [],
   "source": [
    "import pandas as pd\n",
    "import numpy as np\n",
    "import matplotlib.pyplot as plt\n",
    "from sklearn.model_selection import train_test_split\n",
    "from imblearn.over_sampling import SMOTE\n",
    "import statsmodels.api as sm"
   ]
  },
  {
   "cell_type": "markdown",
   "metadata": {},
   "source": [
    "#### Load the data"
   ]
  },
  {
   "cell_type": "code",
   "execution_count": 2,
   "metadata": {},
   "outputs": [],
   "source": [
    "df = pd.read_csv('Logistic_regression.csv')"
   ]
  },
  {
   "cell_type": "code",
   "execution_count": 3,
   "metadata": {
    "scrolled": true
   },
   "outputs": [
    {
     "data": {
      "text/plain": [
       "(41188, 21)"
      ]
     },
     "execution_count": 3,
     "metadata": {},
     "output_type": "execute_result"
    }
   ],
   "source": [
    "df.shape"
   ]
  },
  {
   "cell_type": "code",
   "execution_count": 4,
   "metadata": {
    "scrolled": true
   },
   "outputs": [
    {
     "data": {
      "text/html": [
       "<div>\n",
       "<style scoped>\n",
       "    .dataframe tbody tr th:only-of-type {\n",
       "        vertical-align: middle;\n",
       "    }\n",
       "\n",
       "    .dataframe tbody tr th {\n",
       "        vertical-align: top;\n",
       "    }\n",
       "\n",
       "    .dataframe thead th {\n",
       "        text-align: right;\n",
       "    }\n",
       "</style>\n",
       "<table border=\"1\" class=\"dataframe\">\n",
       "  <thead>\n",
       "    <tr style=\"text-align: right;\">\n",
       "      <th></th>\n",
       "      <th>age</th>\n",
       "      <th>job</th>\n",
       "      <th>marital</th>\n",
       "      <th>education</th>\n",
       "      <th>default</th>\n",
       "      <th>housing</th>\n",
       "      <th>loan</th>\n",
       "      <th>contact</th>\n",
       "      <th>month</th>\n",
       "      <th>day_of_week</th>\n",
       "      <th>...</th>\n",
       "      <th>campaign</th>\n",
       "      <th>pdays</th>\n",
       "      <th>previous</th>\n",
       "      <th>poutcome</th>\n",
       "      <th>emp_var_rate</th>\n",
       "      <th>cons_price_idx</th>\n",
       "      <th>cons_conf_idx</th>\n",
       "      <th>euribor3m</th>\n",
       "      <th>nr_employed</th>\n",
       "      <th>y</th>\n",
       "    </tr>\n",
       "  </thead>\n",
       "  <tbody>\n",
       "    <tr>\n",
       "      <th>0</th>\n",
       "      <td>44</td>\n",
       "      <td>blue-collar</td>\n",
       "      <td>married</td>\n",
       "      <td>Basic</td>\n",
       "      <td>unknown</td>\n",
       "      <td>yes</td>\n",
       "      <td>no</td>\n",
       "      <td>cellular</td>\n",
       "      <td>aug</td>\n",
       "      <td>thu</td>\n",
       "      <td>...</td>\n",
       "      <td>1</td>\n",
       "      <td>999</td>\n",
       "      <td>0</td>\n",
       "      <td>nonexistent</td>\n",
       "      <td>1.4</td>\n",
       "      <td>93.444</td>\n",
       "      <td>-36.1</td>\n",
       "      <td>4.963</td>\n",
       "      <td>5228.1</td>\n",
       "      <td>0</td>\n",
       "    </tr>\n",
       "    <tr>\n",
       "      <th>1</th>\n",
       "      <td>53</td>\n",
       "      <td>technician</td>\n",
       "      <td>married</td>\n",
       "      <td>unknown</td>\n",
       "      <td>no</td>\n",
       "      <td>no</td>\n",
       "      <td>no</td>\n",
       "      <td>cellular</td>\n",
       "      <td>nov</td>\n",
       "      <td>fri</td>\n",
       "      <td>...</td>\n",
       "      <td>1</td>\n",
       "      <td>999</td>\n",
       "      <td>0</td>\n",
       "      <td>nonexistent</td>\n",
       "      <td>-0.1</td>\n",
       "      <td>93.200</td>\n",
       "      <td>-42.0</td>\n",
       "      <td>4.021</td>\n",
       "      <td>5195.8</td>\n",
       "      <td>0</td>\n",
       "    </tr>\n",
       "    <tr>\n",
       "      <th>2</th>\n",
       "      <td>28</td>\n",
       "      <td>management</td>\n",
       "      <td>single</td>\n",
       "      <td>university.degree</td>\n",
       "      <td>no</td>\n",
       "      <td>yes</td>\n",
       "      <td>no</td>\n",
       "      <td>cellular</td>\n",
       "      <td>jun</td>\n",
       "      <td>thu</td>\n",
       "      <td>...</td>\n",
       "      <td>3</td>\n",
       "      <td>6</td>\n",
       "      <td>2</td>\n",
       "      <td>success</td>\n",
       "      <td>-1.7</td>\n",
       "      <td>94.055</td>\n",
       "      <td>-39.8</td>\n",
       "      <td>0.729</td>\n",
       "      <td>4991.6</td>\n",
       "      <td>1</td>\n",
       "    </tr>\n",
       "    <tr>\n",
       "      <th>3</th>\n",
       "      <td>39</td>\n",
       "      <td>services</td>\n",
       "      <td>married</td>\n",
       "      <td>high.school</td>\n",
       "      <td>no</td>\n",
       "      <td>no</td>\n",
       "      <td>no</td>\n",
       "      <td>cellular</td>\n",
       "      <td>apr</td>\n",
       "      <td>fri</td>\n",
       "      <td>...</td>\n",
       "      <td>2</td>\n",
       "      <td>999</td>\n",
       "      <td>0</td>\n",
       "      <td>nonexistent</td>\n",
       "      <td>-1.8</td>\n",
       "      <td>93.075</td>\n",
       "      <td>-47.1</td>\n",
       "      <td>1.405</td>\n",
       "      <td>5099.1</td>\n",
       "      <td>0</td>\n",
       "    </tr>\n",
       "    <tr>\n",
       "      <th>4</th>\n",
       "      <td>55</td>\n",
       "      <td>retired</td>\n",
       "      <td>married</td>\n",
       "      <td>Basic</td>\n",
       "      <td>no</td>\n",
       "      <td>yes</td>\n",
       "      <td>no</td>\n",
       "      <td>cellular</td>\n",
       "      <td>aug</td>\n",
       "      <td>fri</td>\n",
       "      <td>...</td>\n",
       "      <td>1</td>\n",
       "      <td>3</td>\n",
       "      <td>1</td>\n",
       "      <td>success</td>\n",
       "      <td>-2.9</td>\n",
       "      <td>92.201</td>\n",
       "      <td>-31.4</td>\n",
       "      <td>0.869</td>\n",
       "      <td>5076.2</td>\n",
       "      <td>1</td>\n",
       "    </tr>\n",
       "  </tbody>\n",
       "</table>\n",
       "<p>5 rows × 21 columns</p>\n",
       "</div>"
      ],
      "text/plain": [
       "   age          job  marital          education  default housing loan  \\\n",
       "0   44  blue-collar  married              Basic  unknown     yes   no   \n",
       "1   53   technician  married            unknown       no      no   no   \n",
       "2   28   management   single  university.degree       no     yes   no   \n",
       "3   39     services  married        high.school       no      no   no   \n",
       "4   55      retired  married              Basic       no     yes   no   \n",
       "\n",
       "    contact month day_of_week ...  campaign  pdays  previous     poutcome  \\\n",
       "0  cellular   aug         thu ...         1    999         0  nonexistent   \n",
       "1  cellular   nov         fri ...         1    999         0  nonexistent   \n",
       "2  cellular   jun         thu ...         3      6         2      success   \n",
       "3  cellular   apr         fri ...         2    999         0  nonexistent   \n",
       "4  cellular   aug         fri ...         1      3         1      success   \n",
       "\n",
       "  emp_var_rate  cons_price_idx  cons_conf_idx  euribor3m  nr_employed  y  \n",
       "0          1.4          93.444          -36.1      4.963       5228.1  0  \n",
       "1         -0.1          93.200          -42.0      4.021       5195.8  0  \n",
       "2         -1.7          94.055          -39.8      0.729       4991.6  1  \n",
       "3         -1.8          93.075          -47.1      1.405       5099.1  0  \n",
       "4         -2.9          92.201          -31.4      0.869       5076.2  1  \n",
       "\n",
       "[5 rows x 21 columns]"
      ]
     },
     "execution_count": 4,
     "metadata": {},
     "output_type": "execute_result"
    }
   ],
   "source": [
    "df.head()"
   ]
  },
  {
   "cell_type": "markdown",
   "metadata": {},
   "source": [
    "#### Create dummy for category variable"
   ]
  },
  {
   "cell_type": "code",
   "execution_count": 5,
   "metadata": {},
   "outputs": [],
   "source": [
    "df_dummy = pd.get_dummies(df)"
   ]
  },
  {
   "cell_type": "code",
   "execution_count": 6,
   "metadata": {},
   "outputs": [
    {
     "data": {
      "text/plain": [
       "Index(['age', 'duration', 'campaign', 'pdays', 'previous', 'emp_var_rate',\n",
       "       'cons_price_idx', 'cons_conf_idx', 'euribor3m', 'nr_employed', 'y',\n",
       "       'job_admin.', 'job_blue-collar', 'job_entrepreneur', 'job_housemaid',\n",
       "       'job_management', 'job_retired', 'job_self-employed', 'job_services',\n",
       "       'job_student', 'job_technician', 'job_unemployed', 'job_unknown',\n",
       "       'marital_divorced', 'marital_married', 'marital_single',\n",
       "       'marital_unknown', 'education_Basic', 'education_high.school',\n",
       "       'education_illiterate', 'education_professional.course',\n",
       "       'education_university.degree', 'education_unknown', 'default_no',\n",
       "       'default_unknown', 'default_yes', 'housing_no', 'housing_unknown',\n",
       "       'housing_yes', 'loan_no', 'loan_unknown', 'loan_yes',\n",
       "       'contact_cellular', 'contact_telephone', 'month_apr', 'month_aug',\n",
       "       'month_dec', 'month_jul', 'month_jun', 'month_mar', 'month_may',\n",
       "       'month_nov', 'month_oct', 'month_sep', 'day_of_week_fri',\n",
       "       'day_of_week_mon', 'day_of_week_thu', 'day_of_week_tue',\n",
       "       'day_of_week_wed', 'poutcome_failure', 'poutcome_nonexistent',\n",
       "       'poutcome_success'],\n",
       "      dtype='object')"
      ]
     },
     "execution_count": 6,
     "metadata": {},
     "output_type": "execute_result"
    }
   ],
   "source": [
    "df_dummy.columns"
   ]
  },
  {
   "cell_type": "code",
   "execution_count": 7,
   "metadata": {},
   "outputs": [],
   "source": [
    "X = df_dummy.drop('y',axis = 1)\n",
    "y = df_dummy['y']"
   ]
  },
  {
   "cell_type": "markdown",
   "metadata": {},
   "source": [
    "#### Seperate the train set and test set"
   ]
  },
  {
   "cell_type": "code",
   "execution_count": 8,
   "metadata": {},
   "outputs": [],
   "source": [
    "X_train, X_test, y_train, y_test = train_test_split(X, y, test_size = 0.3, random_state = 123)"
   ]
  },
  {
   "cell_type": "markdown",
   "metadata": {},
   "source": [
    "#### Drop one of dummy variables to avoid Collinear in logestic regression"
   ]
  },
  {
   "cell_type": "code",
   "execution_count": 9,
   "metadata": {},
   "outputs": [
    {
     "name": "stderr",
     "output_type": "stream",
     "text": [
      "D:\\anaconda3\\lib\\site-packages\\pandas\\core\\frame.py:3697: SettingWithCopyWarning: \n",
      "A value is trying to be set on a copy of a slice from a DataFrame\n",
      "\n",
      "See the caveats in the documentation: http://pandas.pydata.org/pandas-docs/stable/indexing.html#indexing-view-versus-copy\n",
      "  errors=errors)\n"
     ]
    }
   ],
   "source": [
    "X_train.drop(['default_unknown', 'education_unknown','marital_unknown',  'housing_unknown', 'job_unknown',\n",
    "             'loan_unknown','contact_telephone','month_sep','day_of_week_wed','poutcome_nonexistent'],axis = 1, inplace=True)"
   ]
  },
  {
   "cell_type": "code",
   "execution_count": 10,
   "metadata": {},
   "outputs": [
    {
     "data": {
      "text/plain": [
       "51"
      ]
     },
     "execution_count": 10,
     "metadata": {},
     "output_type": "execute_result"
    }
   ],
   "source": [
    "len(X_train.columns)"
   ]
  },
  {
   "cell_type": "markdown",
   "metadata": {},
   "source": [
    "#### Using P-value to select variale"
   ]
  },
  {
   "cell_type": "code",
   "execution_count": 11,
   "metadata": {},
   "outputs": [
    {
     "name": "stdout",
     "output_type": "stream",
     "text": [
      "Warning: Maximum number of iterations has been exceeded.\n",
      "         Current function value: 0.208361\n",
      "         Iterations: 35\n"
     ]
    },
    {
     "name": "stderr",
     "output_type": "stream",
     "text": [
      "D:\\anaconda3\\lib\\site-packages\\statsmodels\\base\\model.py:508: ConvergenceWarning: Maximum Likelihood optimization failed to converge. Check mle_retvals\n",
      "  \"Check mle_retvals\", ConvergenceWarning)\n"
     ]
    }
   ],
   "source": [
    "logit_model = sm.Logit(y_train,X_train)\n",
    "result = logit_model.fit()\n",
    "p_value = result.pvalues"
   ]
  },
  {
   "cell_type": "code",
   "execution_count": 12,
   "metadata": {},
   "outputs": [],
   "source": [
    "X_train.drop(p_value[p_value>0.05].index.tolist(),axis = 1, inplace = True)"
   ]
  },
  {
   "cell_type": "code",
   "execution_count": 13,
   "metadata": {},
   "outputs": [
    {
     "data": {
      "text/plain": [
       "Index(['duration', 'campaign', 'pdays', 'emp_var_rate', 'cons_price_idx',\n",
       "       'euribor3m', 'nr_employed', 'default_no', 'contact_cellular',\n",
       "       'month_apr', 'month_aug', 'month_dec', 'month_jul', 'month_jun',\n",
       "       'month_mar', 'month_nov', 'day_of_week_mon', 'poutcome_failure'],\n",
       "      dtype='object')"
      ]
     },
     "execution_count": 13,
     "metadata": {},
     "output_type": "execute_result"
    }
   ],
   "source": [
    "X_train.columns"
   ]
  },
  {
   "cell_type": "code",
   "execution_count": 14,
   "metadata": {},
   "outputs": [
    {
     "name": "stdout",
     "output_type": "stream",
     "text": [
      "Optimization terminated successfully.\n",
      "         Current function value: 0.209455\n",
      "         Iterations 8\n"
     ]
    }
   ],
   "source": [
    "logit_model2 = sm.Logit(y_train,X_train)\n",
    "result2 = logit_model2.fit()\n",
    "p_value2 = result2.pvalues"
   ]
  },
  {
   "cell_type": "code",
   "execution_count": 15,
   "metadata": {},
   "outputs": [
    {
     "data": {
      "text/plain": [
       "Series([], dtype: float64)"
      ]
     },
     "execution_count": 15,
     "metadata": {},
     "output_type": "execute_result"
    }
   ],
   "source": [
    "p_value2[p_value2>0.05]"
   ]
  },
  {
   "cell_type": "code",
   "execution_count": 16,
   "metadata": {},
   "outputs": [
    {
     "data": {
      "text/html": [
       "<table class=\"simpletable\">\n",
       "<caption>Logit Regression Results</caption>\n",
       "<tr>\n",
       "  <th>Dep. Variable:</th>         <td>y</td>        <th>  No. Observations:  </th>  <td> 28831</td> \n",
       "</tr>\n",
       "<tr>\n",
       "  <th>Model:</th>               <td>Logit</td>      <th>  Df Residuals:      </th>  <td> 28813</td> \n",
       "</tr>\n",
       "<tr>\n",
       "  <th>Method:</th>               <td>MLE</td>       <th>  Df Model:          </th>  <td>    17</td> \n",
       "</tr>\n",
       "<tr>\n",
       "  <th>Date:</th>          <td>Thu, 10 Oct 2019</td> <th>  Pseudo R-squ.:     </th>  <td>0.4037</td> \n",
       "</tr>\n",
       "<tr>\n",
       "  <th>Time:</th>              <td>16:03:07</td>     <th>  Log-Likelihood:    </th> <td> -6038.8</td>\n",
       "</tr>\n",
       "<tr>\n",
       "  <th>converged:</th>           <td>True</td>       <th>  LL-Null:           </th> <td> -10127.</td>\n",
       "</tr>\n",
       "<tr>\n",
       "  <th> </th>                      <td> </td>        <th>  LLR p-value:       </th>  <td> 0.000</td> \n",
       "</tr>\n",
       "</table>\n",
       "<table class=\"simpletable\">\n",
       "<tr>\n",
       "          <td></td>            <th>coef</th>     <th>std err</th>      <th>z</th>      <th>P>|z|</th>  <th>[0.025</th>    <th>0.975]</th>  \n",
       "</tr>\n",
       "<tr>\n",
       "  <th>duration</th>         <td>    0.0047</td> <td> 8.84e-05</td> <td>   52.785</td> <td> 0.000</td> <td>    0.004</td> <td>    0.005</td>\n",
       "</tr>\n",
       "<tr>\n",
       "  <th>campaign</th>         <td>   -0.0476</td> <td>    0.014</td> <td>   -3.427</td> <td> 0.001</td> <td>   -0.075</td> <td>   -0.020</td>\n",
       "</tr>\n",
       "<tr>\n",
       "  <th>pdays</th>            <td>   -0.0013</td> <td> 8.54e-05</td> <td>  -15.419</td> <td> 0.000</td> <td>   -0.001</td> <td>   -0.001</td>\n",
       "</tr>\n",
       "<tr>\n",
       "  <th>emp_var_rate</th>     <td>   -1.1409</td> <td>    0.070</td> <td>  -16.195</td> <td> 0.000</td> <td>   -1.279</td> <td>   -1.003</td>\n",
       "</tr>\n",
       "<tr>\n",
       "  <th>cons_price_idx</th>   <td>    0.7170</td> <td>    0.036</td> <td>   19.979</td> <td> 0.000</td> <td>    0.647</td> <td>    0.787</td>\n",
       "</tr>\n",
       "<tr>\n",
       "  <th>euribor3m</th>        <td>    0.8774</td> <td>    0.086</td> <td>   10.157</td> <td> 0.000</td> <td>    0.708</td> <td>    1.047</td>\n",
       "</tr>\n",
       "<tr>\n",
       "  <th>nr_employed</th>      <td>   -0.0143</td> <td>    0.001</td> <td>  -20.337</td> <td> 0.000</td> <td>   -0.016</td> <td>   -0.013</td>\n",
       "</tr>\n",
       "<tr>\n",
       "  <th>default_no</th>       <td>    0.3689</td> <td>    0.078</td> <td>    4.748</td> <td> 0.000</td> <td>    0.217</td> <td>    0.521</td>\n",
       "</tr>\n",
       "<tr>\n",
       "  <th>contact_cellular</th> <td>    0.5937</td> <td>    0.079</td> <td>    7.526</td> <td> 0.000</td> <td>    0.439</td> <td>    0.748</td>\n",
       "</tr>\n",
       "<tr>\n",
       "  <th>month_apr</th>        <td>    0.6292</td> <td>    0.085</td> <td>    7.423</td> <td> 0.000</td> <td>    0.463</td> <td>    0.795</td>\n",
       "</tr>\n",
       "<tr>\n",
       "  <th>month_aug</th>        <td>    1.0725</td> <td>    0.083</td> <td>   12.983</td> <td> 0.000</td> <td>    0.911</td> <td>    1.234</td>\n",
       "</tr>\n",
       "<tr>\n",
       "  <th>month_dec</th>        <td>    0.7031</td> <td>    0.216</td> <td>    3.252</td> <td> 0.001</td> <td>    0.279</td> <td>    1.127</td>\n",
       "</tr>\n",
       "<tr>\n",
       "  <th>month_jul</th>        <td>    0.6999</td> <td>    0.089</td> <td>    7.873</td> <td> 0.000</td> <td>    0.526</td> <td>    0.874</td>\n",
       "</tr>\n",
       "<tr>\n",
       "  <th>month_jun</th>        <td>    0.5477</td> <td>    0.086</td> <td>    6.355</td> <td> 0.000</td> <td>    0.379</td> <td>    0.717</td>\n",
       "</tr>\n",
       "<tr>\n",
       "  <th>month_mar</th>        <td>    2.0280</td> <td>    0.126</td> <td>   16.049</td> <td> 0.000</td> <td>    1.780</td> <td>    2.276</td>\n",
       "</tr>\n",
       "<tr>\n",
       "  <th>month_nov</th>        <td>   -0.2409</td> <td>    0.105</td> <td>   -2.284</td> <td> 0.022</td> <td>   -0.448</td> <td>   -0.034</td>\n",
       "</tr>\n",
       "<tr>\n",
       "  <th>day_of_week_mon</th>  <td>   -0.1459</td> <td>    0.061</td> <td>   -2.405</td> <td> 0.016</td> <td>   -0.265</td> <td>   -0.027</td>\n",
       "</tr>\n",
       "<tr>\n",
       "  <th>poutcome_failure</th> <td>   -0.5887</td> <td>    0.073</td> <td>   -8.018</td> <td> 0.000</td> <td>   -0.733</td> <td>   -0.445</td>\n",
       "</tr>\n",
       "</table>"
      ],
      "text/plain": [
       "<class 'statsmodels.iolib.summary.Summary'>\n",
       "\"\"\"\n",
       "                           Logit Regression Results                           \n",
       "==============================================================================\n",
       "Dep. Variable:                      y   No. Observations:                28831\n",
       "Model:                          Logit   Df Residuals:                    28813\n",
       "Method:                           MLE   Df Model:                           17\n",
       "Date:                Thu, 10 Oct 2019   Pseudo R-squ.:                  0.4037\n",
       "Time:                        16:03:07   Log-Likelihood:                -6038.8\n",
       "converged:                       True   LL-Null:                       -10127.\n",
       "                                        LLR p-value:                     0.000\n",
       "====================================================================================\n",
       "                       coef    std err          z      P>|z|      [0.025      0.975]\n",
       "------------------------------------------------------------------------------------\n",
       "duration             0.0047   8.84e-05     52.785      0.000       0.004       0.005\n",
       "campaign            -0.0476      0.014     -3.427      0.001      -0.075      -0.020\n",
       "pdays               -0.0013   8.54e-05    -15.419      0.000      -0.001      -0.001\n",
       "emp_var_rate        -1.1409      0.070    -16.195      0.000      -1.279      -1.003\n",
       "cons_price_idx       0.7170      0.036     19.979      0.000       0.647       0.787\n",
       "euribor3m            0.8774      0.086     10.157      0.000       0.708       1.047\n",
       "nr_employed         -0.0143      0.001    -20.337      0.000      -0.016      -0.013\n",
       "default_no           0.3689      0.078      4.748      0.000       0.217       0.521\n",
       "contact_cellular     0.5937      0.079      7.526      0.000       0.439       0.748\n",
       "month_apr            0.6292      0.085      7.423      0.000       0.463       0.795\n",
       "month_aug            1.0725      0.083     12.983      0.000       0.911       1.234\n",
       "month_dec            0.7031      0.216      3.252      0.001       0.279       1.127\n",
       "month_jul            0.6999      0.089      7.873      0.000       0.526       0.874\n",
       "month_jun            0.5477      0.086      6.355      0.000       0.379       0.717\n",
       "month_mar            2.0280      0.126     16.049      0.000       1.780       2.276\n",
       "month_nov           -0.2409      0.105     -2.284      0.022      -0.448      -0.034\n",
       "day_of_week_mon     -0.1459      0.061     -2.405      0.016      -0.265      -0.027\n",
       "poutcome_failure    -0.5887      0.073     -8.018      0.000      -0.733      -0.445\n",
       "====================================================================================\n",
       "\"\"\""
      ]
     },
     "execution_count": 16,
     "metadata": {},
     "output_type": "execute_result"
    }
   ],
   "source": [
    "result2.summary()"
   ]
  },
  {
   "cell_type": "markdown",
   "metadata": {},
   "source": [
    "#### Use SMOTE to deal with the imbalance"
   ]
  },
  {
   "cell_type": "code",
   "execution_count": 17,
   "metadata": {},
   "outputs": [],
   "source": [
    "os = SMOTE(random_state=123)\n",
    "os_data_X,os_data_y = os.fit_sample(X_train, y_train)"
   ]
  },
  {
   "cell_type": "markdown",
   "metadata": {},
   "source": [
    "#### Model logestic regression"
   ]
  },
  {
   "cell_type": "code",
   "execution_count": 18,
   "metadata": {},
   "outputs": [],
   "source": [
    "def sigmoid(scores):\n",
    "    temp = np.exp(-scores)\n",
    "    return 1.0 / (1.0 + temp)"
   ]
  },
  {
   "cell_type": "code",
   "execution_count": 19,
   "metadata": {},
   "outputs": [],
   "source": [
    "def log_likelihood(features,target,weights):\n",
    "    scores = np.dot(features,weights)\n",
    "    res = np.sum(target * scores - np.log(1 + np.exp(scores)))\n",
    "    return res"
   ]
  },
  {
   "cell_type": "code",
   "execution_count": 71,
   "metadata": {},
   "outputs": [],
   "source": [
    "def logistic_regression(features, target, num_steps, learning_rate, add_intercept=False):\n",
    "    if add_intercept: \n",
    "        intercept = np.ones((features.shape[0], 1))  \n",
    "        features = np.hstack((intercept, features)) \n",
    "        \n",
    "    weights = np.zeros(features.shape[1])\n",
    "  \n",
    "    for step in range(num_steps):  \n",
    "        scores = np.dot(features, weights) \n",
    "        prediction = sigmoid(scores)\n",
    "        error = target - prediction      \n",
    "        gradient = np.dot(error,features)    \n",
    "        weights += learning_rate * gradient  \n",
    "        if step % 10000 == 0:           \n",
    "            print(log_likelihood(features, target, weights))\n",
    "    \n",
    "    return weights"
   ]
  },
  {
   "cell_type": "code",
   "execution_count": 42,
   "metadata": {
    "scrolled": false
   },
   "outputs": [
    {
     "name": "stdout",
     "output_type": "stream",
     "text": [
      "-35255.73777829268\n",
      "-28341.51279582199\n",
      "-28275.641513657098\n",
      "-28209.968301366564\n",
      "-28144.49339354043\n",
      "-28079.21701403969\n",
      "-28014.139376209052\n",
      "-27949.260683085253\n",
      "-27884.58112760291\n",
      "-27820.1008927964\n",
      "-27755.82015199855\n",
      "-27691.739069036455\n",
      "-27627.857798423567\n",
      "-27564.17648554909\n",
      "-27500.695266863586\n",
      "-27437.41427006209\n",
      "-27374.33361426363\n",
      "-27311.45341018818\n",
      "-27248.773760330274\n",
      "-27186.294759129833\n",
      "-27124.016493139607\n",
      "-27061.93904119027\n",
      "-27000.062474552786\n",
      "-26938.386857096753\n",
      "-26876.91224544762\n",
      "-26815.63868913948\n",
      "-26754.56623076629\n",
      "-26693.694906130164\n",
      "-26633.02474438631\n",
      "-26572.55576818597\n",
      "-26512.287993816713\n",
      "-26452.221431339774\n",
      "-26392.35608472499\n",
      "-26332.69195198339\n",
      "-26273.22902529706\n",
      "-26213.967291146546\n",
      "-26154.906730435916\n",
      "-26096.047318615387\n",
      "-26037.389025801524\n",
      "-25978.931816895205\n",
      "-25920.67565169705\n",
      "-25862.620485020885\n",
      "-25804.766266804796\n",
      "-25747.11294221975\n",
      "-25689.66045177664\n",
      "-25632.408731430358\n",
      "-25575.35771268278\n",
      "-25518.50732268228\n",
      "-25461.85748432324\n",
      "-25405.40811634092\n"
     ]
    }
   ],
   "source": [
    "weight = logistic_regression(os_data_X,os_data_y,500000,0.00000000001,add_intercept = True)"
   ]
  },
  {
   "cell_type": "code",
   "execution_count": 44,
   "metadata": {},
   "outputs": [
    {
     "data": {
      "text/plain": [
       "array([ 0.00065011,  0.00586317, -0.02049908, -0.0028753 , -0.06967079,\n",
       "        0.04551461, -0.07167836, -0.00050997,  0.00669725,  0.00951992,\n",
       "        0.00372119,  0.00017835,  0.00057321, -0.00256605,  0.00021986,\n",
       "        0.00324966, -0.00061895, -0.00020907,  0.00248656])"
      ]
     },
     "execution_count": 44,
     "metadata": {},
     "output_type": "execute_result"
    }
   ],
   "source": [
    "weight"
   ]
  },
  {
   "cell_type": "markdown",
   "metadata": {},
   "source": [
    "#### Run the model on test set"
   ]
  },
  {
   "cell_type": "code",
   "execution_count": 50,
   "metadata": {},
   "outputs": [],
   "source": [
    "X_test = X_test[X_train.columns]"
   ]
  },
  {
   "cell_type": "code",
   "execution_count": 51,
   "metadata": {},
   "outputs": [],
   "source": [
    "intercept = np.ones((X_test.shape[0], 1))  \n",
    "X_test = np.hstack((intercept, X_test)) "
   ]
  },
  {
   "cell_type": "code",
   "execution_count": 52,
   "metadata": {},
   "outputs": [
    {
     "data": {
      "text/plain": [
       "array([[  1., 194.,   1., ...,   0.,   0.,   0.],\n",
       "       [  1.,  81.,   1., ...,   0.,   1.,   0.],\n",
       "       [  1., 123.,   2., ...,   0.,   1.,   0.],\n",
       "       ...,\n",
       "       [  1., 261.,   3., ...,   0.,   0.,   0.],\n",
       "       [  1., 295.,   1., ...,   0.,   0.,   0.],\n",
       "       [  1.,  92.,   1., ...,   0.,   0.,   0.]])"
      ]
     },
     "execution_count": 52,
     "metadata": {},
     "output_type": "execute_result"
    }
   ],
   "source": [
    "X_test"
   ]
  },
  {
   "cell_type": "code",
   "execution_count": 53,
   "metadata": {},
   "outputs": [],
   "source": [
    "h = np.dot(X_test,weight)"
   ]
  },
  {
   "cell_type": "code",
   "execution_count": 54,
   "metadata": {},
   "outputs": [],
   "source": [
    "p = sigmoid(h)"
   ]
  },
  {
   "cell_type": "code",
   "execution_count": 57,
   "metadata": {},
   "outputs": [],
   "source": [
    "for i in range(len(p)):\n",
    "    if p[i] >= 0.5:\n",
    "        p[i] = 1\n",
    "    else:\n",
    "        p[i] = 0"
   ]
  },
  {
   "cell_type": "code",
   "execution_count": 60,
   "metadata": {},
   "outputs": [],
   "source": [
    "wrong = 0\n",
    "for i in range(len(p)):\n",
    "    if p[i] != y[i]:\n",
    "        wrong += 1"
   ]
  },
  {
   "cell_type": "code",
   "execution_count": 61,
   "metadata": {},
   "outputs": [
    {
     "data": {
      "text/plain": [
       "0.3823743627093955"
      ]
     },
     "execution_count": 61,
     "metadata": {},
     "output_type": "execute_result"
    }
   ],
   "source": [
    "wrong / len(p)"
   ]
  }
 ],
 "metadata": {
  "hide_input": false,
  "kernelspec": {
   "display_name": "Python 3",
   "language": "python",
   "name": "python3"
  },
  "language_info": {
   "codemirror_mode": {
    "name": "ipython",
    "version": 3
   },
   "file_extension": ".py",
   "mimetype": "text/x-python",
   "name": "python",
   "nbconvert_exporter": "python",
   "pygments_lexer": "ipython3",
   "version": "3.7.1"
  },
  "toc": {
   "base_numbering": 1,
   "nav_menu": {},
   "number_sections": true,
   "sideBar": true,
   "skip_h1_title": false,
   "title_cell": "Table of Contents",
   "title_sidebar": "Contents",
   "toc_cell": false,
   "toc_position": {},
   "toc_section_display": true,
   "toc_window_display": false
  },
  "varInspector": {
   "cols": {
    "lenName": 16,
    "lenType": 16,
    "lenVar": 40
   },
   "kernels_config": {
    "python": {
     "delete_cmd_postfix": "",
     "delete_cmd_prefix": "del ",
     "library": "var_list.py",
     "varRefreshCmd": "print(var_dic_list())"
    },
    "r": {
     "delete_cmd_postfix": ") ",
     "delete_cmd_prefix": "rm(",
     "library": "var_list.r",
     "varRefreshCmd": "cat(var_dic_list()) "
    }
   },
   "types_to_exclude": [
    "module",
    "function",
    "builtin_function_or_method",
    "instance",
    "_Feature"
   ],
   "window_display": false
  }
 },
 "nbformat": 4,
 "nbformat_minor": 2
}
